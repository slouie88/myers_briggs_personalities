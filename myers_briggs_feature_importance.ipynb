{
 "cells": [
  {
   "attachments": {},
   "cell_type": "markdown",
   "metadata": {},
   "source": [
    "### Install Initial Dependencies"
   ]
  },
  {
   "cell_type": "code",
   "execution_count": 1,
   "metadata": {},
   "outputs": [],
   "source": [
    "import numpy as np\n",
    "import pandas as pd\n",
    "import matplotlib.pyplot as plt\n",
    "import seaborn as sns\n",
    "import os"
   ]
  },
  {
   "attachments": {},
   "cell_type": "markdown",
   "metadata": {},
   "source": [
    "### Load Dataset\n",
    "\n",
    "This dataset contains over 8600 rows of data, on each row is a person’s:\n",
    "- Type (This persons 4 letter MBTI code/type)\n",
    "- A section of each of the last 50 things they have posted (Each entry separated by \"|||\" (3 pipe characters))\n",
    "\n",
    "The dataset was taken from Kaggle, but the data itself was collected through the PersonalityCafe forum (http://personalitycafe.com/forum/). The purpose of this dataset is to help see if any patterns can be detected in specific types and their style of writing."
   ]
  },
  {
   "cell_type": "code",
   "execution_count": 2,
   "metadata": {},
   "outputs": [],
   "source": [
    "import os\n",
    "\n",
    "CSV_DATA_PATH = os.path.join(\"data\", \"mbti_1.csv\")\n",
    "\n",
    "def load_csv_data(csv_file_path: str = CSV_DATA_PATH) -> pd.DataFrame:\n",
    "    \"\"\" Load data from a given csv file into a pandas DataFrame object.\n",
    "\n",
    "    Args:\n",
    "    - csv_file_path (str) - The file path of the csv file containing the desired data to load into a pandas DataFrame object.\n",
    "\n",
    "    Returns:\n",
    "    - data (pandas.DataFrame) - The loaded data as a pandas DataFrame object.\n",
    "    \"\"\"\n",
    "    assert csv_file_path.endswith(\".csv\")\n",
    "\n",
    "    return pd.read_csv(csv_file_path)"
   ]
  },
  {
   "cell_type": "code",
   "execution_count": 3,
   "metadata": {},
   "outputs": [
    {
     "data": {
      "text/html": [
       "<div>\n",
       "<style scoped>\n",
       "    .dataframe tbody tr th:only-of-type {\n",
       "        vertical-align: middle;\n",
       "    }\n",
       "\n",
       "    .dataframe tbody tr th {\n",
       "        vertical-align: top;\n",
       "    }\n",
       "\n",
       "    .dataframe thead th {\n",
       "        text-align: right;\n",
       "    }\n",
       "</style>\n",
       "<table border=\"1\" class=\"dataframe\">\n",
       "  <thead>\n",
       "    <tr style=\"text-align: right;\">\n",
       "      <th></th>\n",
       "      <th>type</th>\n",
       "      <th>posts</th>\n",
       "    </tr>\n",
       "  </thead>\n",
       "  <tbody>\n",
       "    <tr>\n",
       "      <th>0</th>\n",
       "      <td>INFJ</td>\n",
       "      <td>'http://www.youtube.com/watch?v=qsXHcwe3krw|||...</td>\n",
       "    </tr>\n",
       "    <tr>\n",
       "      <th>1</th>\n",
       "      <td>ENTP</td>\n",
       "      <td>'I'm finding the lack of me in these posts ver...</td>\n",
       "    </tr>\n",
       "    <tr>\n",
       "      <th>2</th>\n",
       "      <td>INTP</td>\n",
       "      <td>'Good one  _____   https://www.youtube.com/wat...</td>\n",
       "    </tr>\n",
       "    <tr>\n",
       "      <th>3</th>\n",
       "      <td>INTJ</td>\n",
       "      <td>'Dear INTP,   I enjoyed our conversation the o...</td>\n",
       "    </tr>\n",
       "    <tr>\n",
       "      <th>4</th>\n",
       "      <td>ENTJ</td>\n",
       "      <td>'You're fired.|||That's another silly misconce...</td>\n",
       "    </tr>\n",
       "  </tbody>\n",
       "</table>\n",
       "</div>"
      ],
      "text/plain": [
       "   type                                              posts\n",
       "0  INFJ  'http://www.youtube.com/watch?v=qsXHcwe3krw|||...\n",
       "1  ENTP  'I'm finding the lack of me in these posts ver...\n",
       "2  INTP  'Good one  _____   https://www.youtube.com/wat...\n",
       "3  INTJ  'Dear INTP,   I enjoyed our conversation the o...\n",
       "4  ENTJ  'You're fired.|||That's another silly misconce..."
      ]
     },
     "execution_count": 3,
     "metadata": {},
     "output_type": "execute_result"
    }
   ],
   "source": [
    "data = load_csv_data()\n",
    "data.head()"
   ]
  },
  {
   "cell_type": "code",
   "execution_count": 4,
   "metadata": {},
   "outputs": [
    {
     "name": "stdout",
     "output_type": "stream",
     "text": [
      "<class 'pandas.core.frame.DataFrame'>\n",
      "RangeIndex: 8675 entries, 0 to 8674\n",
      "Data columns (total 2 columns):\n",
      " #   Column  Non-Null Count  Dtype \n",
      "---  ------  --------------  ----- \n",
      " 0   type    8675 non-null   object\n",
      " 1   posts   8675 non-null   object\n",
      "dtypes: object(2)\n",
      "memory usage: 135.7+ KB\n"
     ]
    }
   ],
   "source": [
    "data.info()"
   ]
  },
  {
   "cell_type": "code",
   "execution_count": 5,
   "metadata": {},
   "outputs": [
    {
     "data": {
      "text/plain": [
       "0"
      ]
     },
     "execution_count": 5,
     "metadata": {},
     "output_type": "execute_result"
    }
   ],
   "source": [
    "# Quick check for duplicated rows\n",
    "duplication_bool_series = data.duplicated()\n",
    "duplication_bool_series.sum()"
   ]
  },
  {
   "attachments": {},
   "cell_type": "markdown",
   "metadata": {},
   "source": [
    "### Feature Importance"
   ]
  },
  {
   "attachments": {},
   "cell_type": "markdown",
   "metadata": {},
   "source": [
    "Using the newly engineered features, we will build a classifier using a tree-ensemble model like XGBoost and use its feature importance capability to get a sense of which features tend to be most important for determining the 4 axes of personality factors. The significance of these feature importances across the 4 axes of personality factors is, however, dependent on whether a satisfactory model can be fitted well to the given data.\n",
    "\n",
    "For the classifiers to be trained, F1 score will be used as the scoring metric instead of accuracy. This is due to the class imbalances discovered in the data set during initial analysis. As F1 score is the harmonic mean of recall and precision, it takes both metrics into consideration. F1 score can be low as a result of low recall (which can happen in imbalanced data).\n",
    "\n",
    "Stratified k-fold cross validation will also be used for training the classifiers as it enforces a particular ratio of classes for each split. This means that for each split, even if we do have an imbalanced data set, there will still be a particular proportion of classes belonging to the under-represented class for model training.\n",
    "\n",
    "EDA will then be performed on the features that tend to be important in order to gain further insight as to how someone's writing style might relate to their MBTI personality type.\n",
    "\n",
    "NOTE: If the \"data/mbti_2.csv\" file doesn't already exist, then run the code cells of the notebook \"myers_briggs_feature_engineering.ipynb\". "
   ]
  },
  {
   "cell_type": "code",
   "execution_count": 6,
   "metadata": {},
   "outputs": [
    {
     "data": {
      "text/html": [
       "<div>\n",
       "<style scoped>\n",
       "    .dataframe tbody tr th:only-of-type {\n",
       "        vertical-align: middle;\n",
       "    }\n",
       "\n",
       "    .dataframe tbody tr th {\n",
       "        vertical-align: top;\n",
       "    }\n",
       "\n",
       "    .dataframe thead th {\n",
       "        text-align: right;\n",
       "    }\n",
       "</style>\n",
       "<table border=\"1\" class=\"dataframe\">\n",
       "  <thead>\n",
       "    <tr style=\"text-align: right;\">\n",
       "      <th></th>\n",
       "      <th>e_vs_i</th>\n",
       "      <th>s_vs_n</th>\n",
       "      <th>t_vs_f</th>\n",
       "      <th>j_vs_p</th>\n",
       "      <th>type</th>\n",
       "      <th>posts</th>\n",
       "      <th>url_count</th>\n",
       "      <th>posts_no_url</th>\n",
       "      <th>posts_no_url_tokenized</th>\n",
       "      <th>posts_no_url_pos_tagged</th>\n",
       "      <th>...</th>\n",
       "      <th>adjective_freq</th>\n",
       "      <th>adverb_freq</th>\n",
       "      <th>preposition_freq</th>\n",
       "      <th>interjection_freq</th>\n",
       "      <th>determiner_freq</th>\n",
       "      <th>negative_sentiment</th>\n",
       "      <th>neutral_sentiment</th>\n",
       "      <th>positive_sentiment</th>\n",
       "      <th>overall_sentiment</th>\n",
       "      <th>word_count</th>\n",
       "    </tr>\n",
       "  </thead>\n",
       "  <tbody>\n",
       "    <tr>\n",
       "      <th>0</th>\n",
       "      <td>I</td>\n",
       "      <td>N</td>\n",
       "      <td>F</td>\n",
       "      <td>J</td>\n",
       "      <td>INFJ</td>\n",
       "      <td>'http://www.youtube.com/watch?v=qsXHcwe3krw</td>\n",
       "      <td>1</td>\n",
       "      <td>'</td>\n",
       "      <td>[\"'\"]</td>\n",
       "      <td>[(\"'\", \"''\")]</td>\n",
       "      <td>...</td>\n",
       "      <td>0</td>\n",
       "      <td>0</td>\n",
       "      <td>0</td>\n",
       "      <td>0</td>\n",
       "      <td>0</td>\n",
       "      <td>0.00</td>\n",
       "      <td>1.00</td>\n",
       "      <td>0.0</td>\n",
       "      <td>0.0000</td>\n",
       "      <td>0</td>\n",
       "    </tr>\n",
       "    <tr>\n",
       "      <th>1</th>\n",
       "      <td>I</td>\n",
       "      <td>N</td>\n",
       "      <td>F</td>\n",
       "      <td>J</td>\n",
       "      <td>INFJ</td>\n",
       "      <td>http://41.media.tumblr.com/tumblr_lfouy03PMA1q...</td>\n",
       "      <td>1</td>\n",
       "      <td>NaN</td>\n",
       "      <td>[]</td>\n",
       "      <td>[]</td>\n",
       "      <td>...</td>\n",
       "      <td>0</td>\n",
       "      <td>0</td>\n",
       "      <td>0</td>\n",
       "      <td>0</td>\n",
       "      <td>0</td>\n",
       "      <td>0.00</td>\n",
       "      <td>1.00</td>\n",
       "      <td>0.0</td>\n",
       "      <td>0.0000</td>\n",
       "      <td>0</td>\n",
       "    </tr>\n",
       "    <tr>\n",
       "      <th>2</th>\n",
       "      <td>I</td>\n",
       "      <td>N</td>\n",
       "      <td>F</td>\n",
       "      <td>J</td>\n",
       "      <td>INFJ</td>\n",
       "      <td>enfp and intj moments  https://www.youtube.com...</td>\n",
       "      <td>2</td>\n",
       "      <td>enfp and intj moments    sportscenter not top ...</td>\n",
       "      <td>['enfp', 'and', 'intj', 'moments', 'sportscent...</td>\n",
       "      <td>[('enfp', 'NN'), ('and', 'CC'), ('intj', 'JJ')...</td>\n",
       "      <td>...</td>\n",
       "      <td>1</td>\n",
       "      <td>1</td>\n",
       "      <td>0</td>\n",
       "      <td>0</td>\n",
       "      <td>0</td>\n",
       "      <td>0.27</td>\n",
       "      <td>0.73</td>\n",
       "      <td>0.0</td>\n",
       "      <td>-0.4003</td>\n",
       "      <td>10</td>\n",
       "    </tr>\n",
       "    <tr>\n",
       "      <th>3</th>\n",
       "      <td>I</td>\n",
       "      <td>N</td>\n",
       "      <td>F</td>\n",
       "      <td>J</td>\n",
       "      <td>INFJ</td>\n",
       "      <td>What has been the most life-changing experienc...</td>\n",
       "      <td>0</td>\n",
       "      <td>What has been the most life-changing experienc...</td>\n",
       "      <td>['what', 'has', 'been', 'the', 'most', 'life-c...</td>\n",
       "      <td>[('what', 'WDT'), ('has', 'VBZ'), ('been', 'VB...</td>\n",
       "      <td>...</td>\n",
       "      <td>1</td>\n",
       "      <td>1</td>\n",
       "      <td>1</td>\n",
       "      <td>0</td>\n",
       "      <td>2</td>\n",
       "      <td>0.00</td>\n",
       "      <td>1.00</td>\n",
       "      <td>0.0</td>\n",
       "      <td>0.0000</td>\n",
       "      <td>10</td>\n",
       "    </tr>\n",
       "    <tr>\n",
       "      <th>4</th>\n",
       "      <td>I</td>\n",
       "      <td>N</td>\n",
       "      <td>F</td>\n",
       "      <td>J</td>\n",
       "      <td>INFJ</td>\n",
       "      <td>http://www.youtube.com/watch?v=vXZeYwwRDw8   h...</td>\n",
       "      <td>2</td>\n",
       "      <td>On repeat for most of today.</td>\n",
       "      <td>['on', 'repeat', 'for', 'most', 'of', 'today',...</td>\n",
       "      <td>[('on', 'IN'), ('repeat', 'NN'), ('for', 'IN')...</td>\n",
       "      <td>...</td>\n",
       "      <td>1</td>\n",
       "      <td>0</td>\n",
       "      <td>3</td>\n",
       "      <td>0</td>\n",
       "      <td>0</td>\n",
       "      <td>0.00</td>\n",
       "      <td>1.00</td>\n",
       "      <td>0.0</td>\n",
       "      <td>0.0000</td>\n",
       "      <td>6</td>\n",
       "    </tr>\n",
       "  </tbody>\n",
       "</table>\n",
       "<p>5 rows × 23 columns</p>\n",
       "</div>"
      ],
      "text/plain": [
       "  e_vs_i s_vs_n t_vs_f j_vs_p  type  \\\n",
       "0      I      N      F      J  INFJ   \n",
       "1      I      N      F      J  INFJ   \n",
       "2      I      N      F      J  INFJ   \n",
       "3      I      N      F      J  INFJ   \n",
       "4      I      N      F      J  INFJ   \n",
       "\n",
       "                                               posts  url_count  \\\n",
       "0        'http://www.youtube.com/watch?v=qsXHcwe3krw          1   \n",
       "1  http://41.media.tumblr.com/tumblr_lfouy03PMA1q...          1   \n",
       "2  enfp and intj moments  https://www.youtube.com...          2   \n",
       "3  What has been the most life-changing experienc...          0   \n",
       "4  http://www.youtube.com/watch?v=vXZeYwwRDw8   h...          2   \n",
       "\n",
       "                                        posts_no_url  \\\n",
       "0                                                  '   \n",
       "1                                                NaN   \n",
       "2  enfp and intj moments    sportscenter not top ...   \n",
       "3  What has been the most life-changing experienc...   \n",
       "4                       On repeat for most of today.   \n",
       "\n",
       "                              posts_no_url_tokenized  \\\n",
       "0                                              [\"'\"]   \n",
       "1                                                 []   \n",
       "2  ['enfp', 'and', 'intj', 'moments', 'sportscent...   \n",
       "3  ['what', 'has', 'been', 'the', 'most', 'life-c...   \n",
       "4  ['on', 'repeat', 'for', 'most', 'of', 'today',...   \n",
       "\n",
       "                             posts_no_url_pos_tagged  ...  adjective_freq  \\\n",
       "0                                      [(\"'\", \"''\")]  ...               0   \n",
       "1                                                 []  ...               0   \n",
       "2  [('enfp', 'NN'), ('and', 'CC'), ('intj', 'JJ')...  ...               1   \n",
       "3  [('what', 'WDT'), ('has', 'VBZ'), ('been', 'VB...  ...               1   \n",
       "4  [('on', 'IN'), ('repeat', 'NN'), ('for', 'IN')...  ...               1   \n",
       "\n",
       "   adverb_freq  preposition_freq  interjection_freq  determiner_freq  \\\n",
       "0            0                 0                  0                0   \n",
       "1            0                 0                  0                0   \n",
       "2            1                 0                  0                0   \n",
       "3            1                 1                  0                2   \n",
       "4            0                 3                  0                0   \n",
       "\n",
       "   negative_sentiment  neutral_sentiment  positive_sentiment  \\\n",
       "0                0.00               1.00                 0.0   \n",
       "1                0.00               1.00                 0.0   \n",
       "2                0.27               0.73                 0.0   \n",
       "3                0.00               1.00                 0.0   \n",
       "4                0.00               1.00                 0.0   \n",
       "\n",
       "   overall_sentiment  word_count  \n",
       "0             0.0000           0  \n",
       "1             0.0000           0  \n",
       "2            -0.4003          10  \n",
       "3             0.0000          10  \n",
       "4             0.0000           6  \n",
       "\n",
       "[5 rows x 23 columns]"
      ]
     },
     "execution_count": 6,
     "metadata": {},
     "output_type": "execute_result"
    }
   ],
   "source": [
    "CSV_DATA_PATH = os.path.join(\"data\", \"mbti_2.csv\")\n",
    "\n",
    "df = load_csv_data(csv_file_path=CSV_DATA_PATH)\n",
    "df.head()"
   ]
  },
  {
   "cell_type": "code",
   "execution_count": 7,
   "metadata": {},
   "outputs": [
    {
     "data": {
      "text/html": [
       "<div>\n",
       "<style scoped>\n",
       "    .dataframe tbody tr th:only-of-type {\n",
       "        vertical-align: middle;\n",
       "    }\n",
       "\n",
       "    .dataframe tbody tr th {\n",
       "        vertical-align: top;\n",
       "    }\n",
       "\n",
       "    .dataframe thead th {\n",
       "        text-align: right;\n",
       "    }\n",
       "</style>\n",
       "<table border=\"1\" class=\"dataframe\">\n",
       "  <thead>\n",
       "    <tr style=\"text-align: right;\">\n",
       "      <th></th>\n",
       "      <th>url_count</th>\n",
       "      <th>noun_freq</th>\n",
       "      <th>verb_freq</th>\n",
       "      <th>cardinal_digits_freq</th>\n",
       "      <th>adjective_freq</th>\n",
       "      <th>adverb_freq</th>\n",
       "      <th>preposition_freq</th>\n",
       "      <th>interjection_freq</th>\n",
       "      <th>determiner_freq</th>\n",
       "      <th>overall_sentiment</th>\n",
       "      <th>word_count</th>\n",
       "    </tr>\n",
       "  </thead>\n",
       "  <tbody>\n",
       "    <tr>\n",
       "      <th>0</th>\n",
       "      <td>1</td>\n",
       "      <td>0</td>\n",
       "      <td>0</td>\n",
       "      <td>0</td>\n",
       "      <td>0</td>\n",
       "      <td>0</td>\n",
       "      <td>0</td>\n",
       "      <td>0</td>\n",
       "      <td>0</td>\n",
       "      <td>0.0000</td>\n",
       "      <td>0</td>\n",
       "    </tr>\n",
       "    <tr>\n",
       "      <th>1</th>\n",
       "      <td>1</td>\n",
       "      <td>0</td>\n",
       "      <td>0</td>\n",
       "      <td>0</td>\n",
       "      <td>0</td>\n",
       "      <td>0</td>\n",
       "      <td>0</td>\n",
       "      <td>0</td>\n",
       "      <td>0</td>\n",
       "      <td>0.0000</td>\n",
       "      <td>0</td>\n",
       "    </tr>\n",
       "    <tr>\n",
       "      <th>2</th>\n",
       "      <td>2</td>\n",
       "      <td>5</td>\n",
       "      <td>1</td>\n",
       "      <td>0</td>\n",
       "      <td>1</td>\n",
       "      <td>1</td>\n",
       "      <td>0</td>\n",
       "      <td>0</td>\n",
       "      <td>0</td>\n",
       "      <td>-0.4003</td>\n",
       "      <td>10</td>\n",
       "    </tr>\n",
       "    <tr>\n",
       "      <th>3</th>\n",
       "      <td>0</td>\n",
       "      <td>2</td>\n",
       "      <td>2</td>\n",
       "      <td>0</td>\n",
       "      <td>1</td>\n",
       "      <td>1</td>\n",
       "      <td>1</td>\n",
       "      <td>0</td>\n",
       "      <td>2</td>\n",
       "      <td>0.0000</td>\n",
       "      <td>10</td>\n",
       "    </tr>\n",
       "    <tr>\n",
       "      <th>4</th>\n",
       "      <td>2</td>\n",
       "      <td>2</td>\n",
       "      <td>0</td>\n",
       "      <td>0</td>\n",
       "      <td>1</td>\n",
       "      <td>0</td>\n",
       "      <td>3</td>\n",
       "      <td>0</td>\n",
       "      <td>0</td>\n",
       "      <td>0.0000</td>\n",
       "      <td>6</td>\n",
       "    </tr>\n",
       "  </tbody>\n",
       "</table>\n",
       "</div>"
      ],
      "text/plain": [
       "   url_count  noun_freq  verb_freq  cardinal_digits_freq  adjective_freq  \\\n",
       "0          1          0          0                     0               0   \n",
       "1          1          0          0                     0               0   \n",
       "2          2          5          1                     0               1   \n",
       "3          0          2          2                     0               1   \n",
       "4          2          2          0                     0               1   \n",
       "\n",
       "   adverb_freq  preposition_freq  interjection_freq  determiner_freq  \\\n",
       "0            0                 0                  0                0   \n",
       "1            0                 0                  0                0   \n",
       "2            1                 0                  0                0   \n",
       "3            1                 1                  0                2   \n",
       "4            0                 3                  0                0   \n",
       "\n",
       "   overall_sentiment  word_count  \n",
       "0             0.0000           0  \n",
       "1             0.0000           0  \n",
       "2            -0.4003          10  \n",
       "3             0.0000          10  \n",
       "4             0.0000           6  "
      ]
     },
     "execution_count": 7,
     "metadata": {},
     "output_type": "execute_result"
    }
   ],
   "source": [
    "X = df[[\n",
    "    \"url_count\",\n",
    "    \"noun_freq\",\n",
    "    \"verb_freq\",\n",
    "    \"cardinal_digits_freq\",\n",
    "    \"adjective_freq\",\n",
    "    \"adverb_freq\",\n",
    "    \"preposition_freq\",\n",
    "    \"interjection_freq\",\n",
    "    \"determiner_freq\",\n",
    "    \"overall_sentiment\",\n",
    "    \"word_count\"\n",
    "]]\n",
    "X.head()"
   ]
  },
  {
   "cell_type": "code",
   "execution_count": 8,
   "metadata": {},
   "outputs": [
    {
     "data": {
      "text/html": [
       "<div>\n",
       "<style scoped>\n",
       "    .dataframe tbody tr th:only-of-type {\n",
       "        vertical-align: middle;\n",
       "    }\n",
       "\n",
       "    .dataframe tbody tr th {\n",
       "        vertical-align: top;\n",
       "    }\n",
       "\n",
       "    .dataframe thead th {\n",
       "        text-align: right;\n",
       "    }\n",
       "</style>\n",
       "<table border=\"1\" class=\"dataframe\">\n",
       "  <thead>\n",
       "    <tr style=\"text-align: right;\">\n",
       "      <th></th>\n",
       "      <th>e_vs_i</th>\n",
       "      <th>s_vs_n</th>\n",
       "      <th>t_vs_f</th>\n",
       "      <th>j_vs_p</th>\n",
       "    </tr>\n",
       "  </thead>\n",
       "  <tbody>\n",
       "    <tr>\n",
       "      <th>0</th>\n",
       "      <td>1</td>\n",
       "      <td>0</td>\n",
       "      <td>0</td>\n",
       "      <td>0</td>\n",
       "    </tr>\n",
       "    <tr>\n",
       "      <th>1</th>\n",
       "      <td>1</td>\n",
       "      <td>0</td>\n",
       "      <td>0</td>\n",
       "      <td>0</td>\n",
       "    </tr>\n",
       "    <tr>\n",
       "      <th>2</th>\n",
       "      <td>1</td>\n",
       "      <td>0</td>\n",
       "      <td>0</td>\n",
       "      <td>0</td>\n",
       "    </tr>\n",
       "    <tr>\n",
       "      <th>3</th>\n",
       "      <td>1</td>\n",
       "      <td>0</td>\n",
       "      <td>0</td>\n",
       "      <td>0</td>\n",
       "    </tr>\n",
       "    <tr>\n",
       "      <th>4</th>\n",
       "      <td>1</td>\n",
       "      <td>0</td>\n",
       "      <td>0</td>\n",
       "      <td>0</td>\n",
       "    </tr>\n",
       "  </tbody>\n",
       "</table>\n",
       "</div>"
      ],
      "text/plain": [
       "   e_vs_i  s_vs_n  t_vs_f  j_vs_p\n",
       "0       1       0       0       0\n",
       "1       1       0       0       0\n",
       "2       1       0       0       0\n",
       "3       1       0       0       0\n",
       "4       1       0       0       0"
      ]
     },
     "execution_count": 8,
     "metadata": {},
     "output_type": "execute_result"
    }
   ],
   "source": [
    "from sklearn.preprocessing import LabelEncoder\n",
    "\n",
    "label_encoder = LabelEncoder()\n",
    "targets = df[[\"e_vs_i\", \"s_vs_n\", \"t_vs_f\", \"j_vs_p\"]].apply(label_encoder.fit_transform)\n",
    "targets.head()"
   ]
  },
  {
   "cell_type": "code",
   "execution_count": 9,
   "metadata": {},
   "outputs": [
    {
     "data": {
      "text/html": [
       "<div>\n",
       "<style scoped>\n",
       "    .dataframe tbody tr th:only-of-type {\n",
       "        vertical-align: middle;\n",
       "    }\n",
       "\n",
       "    .dataframe tbody tr th {\n",
       "        vertical-align: top;\n",
       "    }\n",
       "\n",
       "    .dataframe thead th {\n",
       "        text-align: right;\n",
       "    }\n",
       "</style>\n",
       "<table border=\"1\" class=\"dataframe\">\n",
       "  <thead>\n",
       "    <tr style=\"text-align: right;\">\n",
       "      <th></th>\n",
       "      <th>e_vs_i</th>\n",
       "      <th>s_vs_n</th>\n",
       "      <th>t_vs_f</th>\n",
       "      <th>j_vs_p</th>\n",
       "    </tr>\n",
       "  </thead>\n",
       "  <tbody>\n",
       "    <tr>\n",
       "      <th>0</th>\n",
       "      <td>I</td>\n",
       "      <td>N</td>\n",
       "      <td>F</td>\n",
       "      <td>J</td>\n",
       "    </tr>\n",
       "    <tr>\n",
       "      <th>1</th>\n",
       "      <td>I</td>\n",
       "      <td>N</td>\n",
       "      <td>F</td>\n",
       "      <td>J</td>\n",
       "    </tr>\n",
       "    <tr>\n",
       "      <th>2</th>\n",
       "      <td>I</td>\n",
       "      <td>N</td>\n",
       "      <td>F</td>\n",
       "      <td>J</td>\n",
       "    </tr>\n",
       "    <tr>\n",
       "      <th>3</th>\n",
       "      <td>I</td>\n",
       "      <td>N</td>\n",
       "      <td>F</td>\n",
       "      <td>J</td>\n",
       "    </tr>\n",
       "    <tr>\n",
       "      <th>4</th>\n",
       "      <td>I</td>\n",
       "      <td>N</td>\n",
       "      <td>F</td>\n",
       "      <td>J</td>\n",
       "    </tr>\n",
       "  </tbody>\n",
       "</table>\n",
       "</div>"
      ],
      "text/plain": [
       "  e_vs_i s_vs_n t_vs_f j_vs_p\n",
       "0      I      N      F      J\n",
       "1      I      N      F      J\n",
       "2      I      N      F      J\n",
       "3      I      N      F      J\n",
       "4      I      N      F      J"
      ]
     },
     "execution_count": 9,
     "metadata": {},
     "output_type": "execute_result"
    }
   ],
   "source": [
    "df[[\"e_vs_i\", \"s_vs_n\", \"t_vs_f\", \"j_vs_p\"]].head()"
   ]
  },
  {
   "attachments": {},
   "cell_type": "markdown",
   "metadata": {},
   "source": [
    "##### Initial XGBoost Classifier for Extraversion vs Introversion"
   ]
  },
  {
   "cell_type": "code",
   "execution_count": 10,
   "metadata": {},
   "outputs": [
    {
     "name": "stdout",
     "output_type": "stream",
     "text": [
      "              precision    recall  f1-score   support\n",
      "\n",
      "Extraversion       0.96      0.00      0.01     97582\n",
      "Introversion       0.77      1.00      0.87    325263\n",
      "\n",
      "    accuracy                           0.77    422845\n",
      "   macro avg       0.86      0.50      0.44    422845\n",
      "weighted avg       0.81      0.77      0.67    422845\n",
      "\n"
     ]
    }
   ],
   "source": [
    "from xgboost import XGBClassifier\n",
    "from sklearn.metrics import f1_score\n",
    "from sklearn.metrics import classification_report\n",
    "\n",
    "y = targets[\"e_vs_i\"].to_numpy()\n",
    "\n",
    "xgboost_classifier_e_vs_i = XGBClassifier(eval_metric=f1_score, random_state=42)\n",
    "xgboost_classifier_e_vs_i.fit(X, y)\n",
    "y_pred = xgboost_classifier_e_vs_i.predict(X)\n",
    "print(classification_report(y, y_pred, target_names=[\"Extraversion\", \"Introversion\"]))"
   ]
  },
  {
   "cell_type": "code",
   "execution_count": 11,
   "metadata": {},
   "outputs": [
    {
     "name": "stdout",
     "output_type": "stream",
     "text": [
      "Validation CV Macro F1 Scores: [0.43553382 0.43598057 0.43551852 0.43556097 0.43554912]\n",
      "Mean Validation CV Macro F1 Score: 0.4356286006361202\n"
     ]
    }
   ],
   "source": [
    "from sklearn.model_selection import cross_val_score\n",
    "\n",
    "cv_scores = cross_val_score(xgboost_classifier_e_vs_i, X, y, scoring=\"f1_macro\")\n",
    "mean_cv_score = np.mean(cv_scores)\n",
    "print(f\"Validation CV Macro F1 Scores: {cv_scores}\")\n",
    "print(f\"Mean Validation CV Macro F1 Score: {mean_cv_score}\")"
   ]
  },
  {
   "attachments": {},
   "cell_type": "markdown",
   "metadata": {},
   "source": [
    "##### Initial XGBoost Classifier for Intuition vs Sensing"
   ]
  },
  {
   "cell_type": "code",
   "execution_count": 12,
   "metadata": {},
   "outputs": [
    {
     "name": "stdout",
     "output_type": "stream",
     "text": [
      "              precision    recall  f1-score   support\n",
      "\n",
      "   Intuition       0.86      1.00      0.93    364822\n",
      "     Sensing       0.99      0.00      0.00     58023\n",
      "\n",
      "    accuracy                           0.86    422845\n",
      "   macro avg       0.93      0.50      0.47    422845\n",
      "weighted avg       0.88      0.86      0.80    422845\n",
      "\n"
     ]
    }
   ],
   "source": [
    "from xgboost import XGBClassifier\n",
    "from sklearn.metrics import f1_score\n",
    "\n",
    "y = targets[\"s_vs_n\"].to_numpy()\n",
    "\n",
    "xgboost_classifier_s_vs_n = XGBClassifier(eval_metric=f1_score, random_state=42)\n",
    "xgboost_classifier_s_vs_n.fit(X, y)\n",
    "y_pred = xgboost_classifier_s_vs_n.predict(X)\n",
    "print(classification_report(y, y_pred, target_names=[\"Intuition\", \"Sensing\"]))"
   ]
  },
  {
   "cell_type": "code",
   "execution_count": 13,
   "metadata": {},
   "outputs": [
    {
     "name": "stdout",
     "output_type": "stream",
     "text": [
      "Validation CV Macro F1 Scores: [0.46322481 0.46314941 0.46312555 0.4634097  0.46347464]\n",
      "Mean Validation CV Macro F1 Score: 0.4632768223870796\n"
     ]
    }
   ],
   "source": [
    "from sklearn.model_selection import cross_val_score\n",
    "\n",
    "cv_scores = cross_val_score(xgboost_classifier_s_vs_n, X, y, scoring=\"f1_macro\")\n",
    "mean_cv_score = np.mean(cv_scores)\n",
    "print(f\"Validation CV Macro F1 Scores: {cv_scores}\")\n",
    "print(f\"Mean Validation CV Macro F1 Score: {mean_cv_score}\")"
   ]
  },
  {
   "attachments": {},
   "cell_type": "markdown",
   "metadata": {},
   "source": [
    "##### Initial XGBoost Classifier for Thinking vs Feeling"
   ]
  },
  {
   "cell_type": "code",
   "execution_count": 14,
   "metadata": {},
   "outputs": [
    {
     "name": "stdout",
     "output_type": "stream",
     "text": [
      "              precision    recall  f1-score   support\n",
      "\n",
      "     Feeling       0.58      0.76      0.66    229312\n",
      "    Thinking       0.56      0.35      0.43    193533\n",
      "\n",
      "    accuracy                           0.58    422845\n",
      "   macro avg       0.57      0.56      0.55    422845\n",
      "weighted avg       0.57      0.58      0.56    422845\n",
      "\n"
     ]
    }
   ],
   "source": [
    "from xgboost import XGBClassifier\n",
    "from sklearn.metrics import f1_score\n",
    "\n",
    "y = targets[\"t_vs_f\"].to_numpy()\n",
    "\n",
    "xgboost_classifier_t_vs_f = XGBClassifier(eval_metric=f1_score, random_state=42)\n",
    "xgboost_classifier_t_vs_f.fit(X, y)\n",
    "y_pred = xgboost_classifier_t_vs_f.predict(X)\n",
    "print(classification_report(y, y_pred, target_names=[\"Feeling\", \"Thinking\"]))"
   ]
  },
  {
   "cell_type": "code",
   "execution_count": 15,
   "metadata": {},
   "outputs": [
    {
     "name": "stdout",
     "output_type": "stream",
     "text": [
      "Validation CV Macro F1 Scores: [0.52595853 0.52960918 0.52267723 0.52548048 0.52585923]\n",
      "Mean Validation CV Macro F1 Score: 0.5259169280081107\n"
     ]
    }
   ],
   "source": [
    "from sklearn.model_selection import cross_val_score\n",
    "\n",
    "cv_scores = cross_val_score(xgboost_classifier_t_vs_f, X, y, scoring=\"f1_macro\")\n",
    "mean_cv_score = np.mean(cv_scores)\n",
    "print(f\"Validation CV Macro F1 Scores: {cv_scores}\")\n",
    "print(f\"Mean Validation CV Macro F1 Score: {mean_cv_score}\")"
   ]
  },
  {
   "attachments": {},
   "cell_type": "markdown",
   "metadata": {},
   "source": [
    "##### Initial XGBoost Classifier for Judging vs Percieving"
   ]
  },
  {
   "cell_type": "code",
   "execution_count": 16,
   "metadata": {},
   "outputs": [
    {
     "name": "stdout",
     "output_type": "stream",
     "text": [
      "              precision    recall  f1-score   support\n",
      "\n",
      "     Judging       0.84      0.02      0.03    167110\n",
      "  Percieving       0.61      1.00      0.76    255735\n",
      "\n",
      "    accuracy                           0.61    422845\n",
      "   macro avg       0.72      0.51      0.39    422845\n",
      "weighted avg       0.70      0.61      0.47    422845\n",
      "\n"
     ]
    }
   ],
   "source": [
    "from xgboost import XGBClassifier\n",
    "from sklearn.metrics import f1_score\n",
    "\n",
    "y = targets[\"j_vs_p\"].to_numpy()\n",
    "\n",
    "xgboost_classifier_j_vs_p = XGBClassifier(eval_metric=f1_score, random_state=42)\n",
    "xgboost_classifier_j_vs_p.fit(X, y)\n",
    "y_pred = xgboost_classifier_j_vs_p.predict(X)\n",
    "print(classification_report(y, y_pred, target_names=[\"Judging\", \"Percieving\"]))"
   ]
  },
  {
   "cell_type": "code",
   "execution_count": 17,
   "metadata": {},
   "outputs": [
    {
     "name": "stdout",
     "output_type": "stream",
     "text": [
      "Validation CV Macro F1 Scores: [0.38518657 0.38459218 0.3854913  0.38414562 0.38407729]\n",
      "Mean Validation CV Macro F1 Score: 0.38469859256001027\n"
     ]
    }
   ],
   "source": [
    "from sklearn.model_selection import cross_val_score\n",
    "\n",
    "cv_scores = cross_val_score(xgboost_classifier_j_vs_p, X, y, scoring=\"f1_macro\")\n",
    "mean_cv_score = np.mean(cv_scores)\n",
    "print(f\"Validation CV Macro F1 Scores: {cv_scores}\")\n",
    "print(f\"Mean Validation CV Macro F1 Score: {mean_cv_score}\")"
   ]
  },
  {
   "attachments": {},
   "cell_type": "markdown",
   "metadata": {},
   "source": [
    "#### SMOTE Oversampling\n",
    "\n",
    "One of the observations from the initial classifiers fitted across the 4 axes of personality factors is that there tends to be low macro averaged F1 scores, which is caused by the class imbalances in the data. We focus here on macro averaged F1 scores since it weighs each class equally, which is helpful in situations where class imbalances are prevalent. \n",
    "\n",
    "One way to deal with this is to oversample the minority class before fitting the classifier so that the imbalance effect can be somewhat mitigated."
   ]
  },
  {
   "cell_type": "code",
   "execution_count": 11,
   "metadata": {},
   "outputs": [],
   "source": [
    "from imblearn.over_sampling import SMOTE\n",
    "from imblearn.pipeline import Pipeline\n",
    "from xgboost import XGBClassifier\n",
    "from sklearn.metrics import f1_score\n",
    "\n",
    "def build_classifier_with_smote(model=XGBClassifier(eval_metric=f1_score, random_state=42), sampling_strategy=\"auto\"):\n",
    "    \"\"\" Return the given model, with intitial SMOTE over-sampling.\n",
    "\n",
    "    Args:\n",
    "    - model - The classfication model to fit onto input data.\n",
    "    - sampling_strategy - Sampling information to resample the data set. See API reference for imbalance-learn's SMOTE() for more details.\n",
    "\n",
    "    Returns:\n",
    "    - pipeline - A pipeline that oversamples fitted data using SMOTE and then proceeds to fit the input model onto the data being fed into the pipeline.\n",
    "    \"\"\"\n",
    "    over_sampler = SMOTE(sampling_strategy=sampling_strategy, random_state=42)\n",
    "    pipeline = Pipeline([\n",
    "        (\"over_sampler\", over_sampler),\n",
    "        (\"model\", model)\n",
    "    ])\n",
    "\n",
    "    return pipeline    "
   ]
  },
  {
   "attachments": {},
   "cell_type": "markdown",
   "metadata": {},
   "source": [
    "XGBoost Classifier for Extraversion vs Introversion using SMOTE"
   ]
  },
  {
   "cell_type": "code",
   "execution_count": 19,
   "metadata": {},
   "outputs": [
    {
     "name": "stdout",
     "output_type": "stream",
     "text": [
      "              precision    recall  f1-score   support\n",
      "\n",
      "Extraversion       0.27      0.34      0.30     97582\n",
      "Introversion       0.78      0.72      0.75    325263\n",
      "\n",
      "    accuracy                           0.63    422845\n",
      "   macro avg       0.53      0.53      0.52    422845\n",
      "weighted avg       0.67      0.63      0.65    422845\n",
      "\n"
     ]
    }
   ],
   "source": [
    "y = targets[\"e_vs_i\"].values\n",
    "\n",
    "xgboost_classifier_e_vs_i = build_classifier_with_smote()\n",
    "xgboost_classifier_e_vs_i.fit(X, y)\n",
    "y_pred = xgboost_classifier_e_vs_i.predict(X)\n",
    "print(classification_report(y, y_pred, target_names=[\"Extraversion\", \"Introversion\"]))"
   ]
  },
  {
   "cell_type": "code",
   "execution_count": 21,
   "metadata": {},
   "outputs": [
    {
     "name": "stdout",
     "output_type": "stream",
     "text": [
      "Validation CV Macro F1 Scores: [0.50446481 0.50655233 0.50786471 0.51122627 0.50472538]\n",
      "Mean Validation CV Macro F1 Score: 0.5069667000672048\n"
     ]
    }
   ],
   "source": [
    "from sklearn.model_selection import cross_val_score\n",
    "\n",
    "cv_scores = cross_val_score(xgboost_classifier_e_vs_i, X, y, scoring=\"f1_macro\")\n",
    "mean_cv_score = np.mean(cv_scores)\n",
    "print(f\"Validation CV Macro F1 Scores: {cv_scores}\")\n",
    "print(f\"Mean Validation CV Macro F1 Score: {mean_cv_score}\")"
   ]
  },
  {
   "attachments": {},
   "cell_type": "markdown",
   "metadata": {},
   "source": [
    "XGBoost Classifier for Intuition vs Sensing using SMOTE"
   ]
  },
  {
   "cell_type": "code",
   "execution_count": null,
   "metadata": {},
   "outputs": [
    {
     "name": "stdout",
     "output_type": "stream",
     "text": [
      "              precision    recall  f1-score   support\n",
      "\n",
      "   Intuition       0.87      0.70      0.77    364822\n",
      "     Sensing       0.16      0.35      0.22     58023\n",
      "\n",
      "    accuracy                           0.65    422845\n",
      "   macro avg       0.51      0.53      0.50    422845\n",
      "weighted avg       0.77      0.65      0.70    422845\n",
      "\n"
     ]
    }
   ],
   "source": [
    "y = targets[\"s_vs_n\"].values\n",
    "\n",
    "xgboost_classifier_s_vs_n = build_classifier_with_smote()\n",
    "xgboost_classifier_s_vs_n.fit(X, y)\n",
    "y_pred = xgboost_classifier_s_vs_n.predict(X)\n",
    "print(classification_report(y, y_pred, target_names=[\"Intuition\", \"Sensing\"]))"
   ]
  },
  {
   "cell_type": "code",
   "execution_count": null,
   "metadata": {},
   "outputs": [
    {
     "name": "stdout",
     "output_type": "stream",
     "text": [
      "Validation CV Macro F1 Scores: [0.48286674 0.48030735 0.48182886 0.48182858 0.48090159]\n",
      "Mean Validation CV Macro F1 Score: 0.4815466247681718\n"
     ]
    }
   ],
   "source": [
    "from sklearn.model_selection import cross_val_score\n",
    "\n",
    "cv_scores = cross_val_score(xgboost_classifier_s_vs_n, X, y, scoring=\"f1_macro\")\n",
    "mean_cv_score = np.mean(cv_scores)\n",
    "print(f\"Validation CV Macro F1 Scores: {cv_scores}\")\n",
    "print(f\"Mean Validation CV Macro F1 Score: {mean_cv_score}\")"
   ]
  },
  {
   "attachments": {},
   "cell_type": "markdown",
   "metadata": {},
   "source": [
    "XGBoost Classifier for Thinking vs Feeling using SMOTE"
   ]
  },
  {
   "cell_type": "code",
   "execution_count": null,
   "metadata": {},
   "outputs": [
    {
     "name": "stdout",
     "output_type": "stream",
     "text": [
      "              precision    recall  f1-score   support\n",
      "\n",
      "     Feeling       0.61      0.55      0.58    229312\n",
      "    Thinking       0.52      0.59      0.55    193533\n",
      "\n",
      "    accuracy                           0.57    422845\n",
      "   macro avg       0.57      0.57      0.57    422845\n",
      "weighted avg       0.57      0.57      0.57    422845\n",
      "\n"
     ]
    }
   ],
   "source": [
    "y = targets[\"t_vs_f\"].values\n",
    "\n",
    "xgboost_classifier_t_vs_f = build_classifier_with_smote()\n",
    "xgboost_classifier_t_vs_f.fit(X, y)\n",
    "y_pred = xgboost_classifier_t_vs_f.predict(X)\n",
    "print(classification_report(y, y_pred, target_names=[\"Feeling\", \"Thinking\"]))"
   ]
  },
  {
   "cell_type": "code",
   "execution_count": null,
   "metadata": {},
   "outputs": [
    {
     "name": "stdout",
     "output_type": "stream",
     "text": [
      "Validation CV Macro F1 Scores: [0.54294513 0.54372997 0.54317304 0.54150478 0.54114781]\n",
      "Mean Validation CV Macro F1 Score: 0.5425001485950848\n"
     ]
    }
   ],
   "source": [
    "from sklearn.model_selection import cross_val_score\n",
    "\n",
    "cv_scores = cross_val_score(xgboost_classifier_t_vs_f, X, y, scoring=\"f1_macro\")\n",
    "mean_cv_score = np.mean(cv_scores)\n",
    "print(f\"Validation CV Macro F1 Scores: {cv_scores}\")\n",
    "print(f\"Mean Validation CV Macro F1 Score: {mean_cv_score}\")"
   ]
  },
  {
   "attachments": {},
   "cell_type": "markdown",
   "metadata": {},
   "source": [
    "XGBoost Classifier for Judging vs Perceiving using SMOTE"
   ]
  },
  {
   "cell_type": "code",
   "execution_count": null,
   "metadata": {},
   "outputs": [
    {
     "name": "stdout",
     "output_type": "stream",
     "text": [
      "              precision    recall  f1-score   support\n",
      "\n",
      "     Judging       0.44      0.40      0.42    167110\n",
      "  Percieving       0.63      0.67      0.65    255735\n",
      "\n",
      "    accuracy                           0.56    422845\n",
      "   macro avg       0.54      0.53      0.53    422845\n",
      "weighted avg       0.56      0.56      0.56    422845\n",
      "\n"
     ]
    }
   ],
   "source": [
    "y = targets[\"j_vs_p\"].values\n",
    "\n",
    "xgboost_classifier_j_vs_p = build_classifier_with_smote()\n",
    "xgboost_classifier_j_vs_p.fit(X, y)\n",
    "y_pred = xgboost_classifier_j_vs_p.predict(X)\n",
    "print(classification_report(y, y_pred, target_names=[\"Judging\", \"Percieving\"]))"
   ]
  },
  {
   "cell_type": "code",
   "execution_count": null,
   "metadata": {},
   "outputs": [
    {
     "name": "stdout",
     "output_type": "stream",
     "text": [
      "Validation CV Macro F1 Scores: [0.50344595 0.50521136 0.50303166 0.50099618 0.50374662]\n",
      "Mean Validation CV Macro F1 Score: 0.5032863537090837\n"
     ]
    }
   ],
   "source": [
    "from sklearn.model_selection import cross_val_score\n",
    "\n",
    "cv_scores = cross_val_score(xgboost_classifier_j_vs_p, X, y)\n",
    "mean_cv_score = np.mean(cv_scores)\n",
    "print(f\"Validation CV Macro F1 Scores: {cv_scores}\")\n",
    "print(f\"Mean Validation CV Macro F1 Score: {mean_cv_score}\")"
   ]
  },
  {
   "attachments": {},
   "cell_type": "markdown",
   "metadata": {},
   "source": [
    "From performing some over-sampling of the data points within the minority classes, we can see some improvements to the F1 scores of the minority classes. We can also see some slight improvements to the macro averaged F1 scores for the classfiers. The authors of the original SMOTE research paper suggest combining some undersampling techiques along side SMOTE for better performance, and so this will be tried out in the next section."
   ]
  },
  {
   "attachments": {},
   "cell_type": "markdown",
   "metadata": {},
   "source": [
    "##### SMOTE + Edited Nearest Neighbors Undersampling"
   ]
  },
  {
   "cell_type": "code",
   "execution_count": null,
   "metadata": {},
   "outputs": [],
   "source": [
    "from imblearn.over_sampling import SMOTE\n",
    "from imblearn.combine import SMOTEENN\n",
    "from imblearn.pipeline import Pipeline\n",
    "from xgboost import XGBClassifier\n",
    "from sklearn.metrics import f1_score\n",
    "\n",
    "def build_classifier_with_smote_enn(model=XGBClassifier(eval_metric=f1_score, random_state=42), sampling_strategy=\"auto\"):\n",
    "    \"\"\" Return the given model, with intitial SMOTE over-sampling.\n",
    "\n",
    "    Args:\n",
    "    - model - The classfication model to fit onto input data.\n",
    "    - sampling_strategy - Sampling information to resample the data set. See API reference for imbalance-learn's SMOTE() for more details.\n",
    "\n",
    "    Returns:\n",
    "    - pipeline - A pipeline that oversamples fitted data using SMOTE and then proceeds to fit the input model onto the data being fed into the pipeline.\n",
    "    \"\"\"\n",
    "    resampler = SMOTEENN(sampling_strategy=sampling_strategy, random_state=42)\n",
    "    pipeline = Pipeline([\n",
    "        (\"resampler\", resampler),\n",
    "        (\"model\", model)\n",
    "    ])\n",
    "\n",
    "    return pipeline    "
   ]
  },
  {
   "attachments": {},
   "cell_type": "markdown",
   "metadata": {},
   "source": [
    "Extraversion vs Introversion"
   ]
  },
  {
   "cell_type": "code",
   "execution_count": null,
   "metadata": {},
   "outputs": [
    {
     "name": "stdout",
     "output_type": "stream",
     "text": [
      "              precision    recall  f1-score   support\n",
      "\n",
      "Extraversion       0.25      0.68      0.36     97582\n",
      "Introversion       0.80      0.38      0.52    325263\n",
      "\n",
      "    accuracy                           0.45    422845\n",
      "   macro avg       0.52      0.53      0.44    422845\n",
      "weighted avg       0.67      0.45      0.48    422845\n",
      "\n"
     ]
    }
   ],
   "source": [
    "from sklearn.metrics import classification_report\n",
    "\n",
    "y = targets[\"e_vs_i\"].values\n",
    "\n",
    "xgboost_classifier_e_vs_i = build_classifier_with_smote_enn()\n",
    "xgboost_classifier_e_vs_i.fit(X, y)\n",
    "y_pred = xgboost_classifier_e_vs_i.predict(X)\n",
    "print(classification_report(y, y_pred, target_names=[\"Extraversion\", \"Introversion\"]))"
   ]
  },
  {
   "attachments": {},
   "cell_type": "markdown",
   "metadata": {},
   "source": [
    "Intuition vs Sensing"
   ]
  },
  {
   "cell_type": "code",
   "execution_count": null,
   "metadata": {},
   "outputs": [
    {
     "name": "stdout",
     "output_type": "stream",
     "text": [
      "              precision    recall  f1-score   support\n",
      "\n",
      "   Intuition       0.87      0.53      0.66    364822\n",
      "     Sensing       0.15      0.51      0.23     58023\n",
      "\n",
      "    accuracy                           0.53    422845\n",
      "   macro avg       0.51      0.52      0.45    422845\n",
      "weighted avg       0.77      0.53      0.60    422845\n",
      "\n"
     ]
    }
   ],
   "source": [
    "y = targets[\"s_vs_n\"].values\n",
    "\n",
    "xgboost_classifier_s_vs_n = build_classifier_with_smote_enn()\n",
    "xgboost_classifier_s_vs_n.fit(X, y)\n",
    "y_pred = xgboost_classifier_s_vs_n.predict(X)\n",
    "print(classification_report(y, y_pred, target_names=[\"Intuition\", \"Sensing\"]))"
   ]
  },
  {
   "attachments": {},
   "cell_type": "markdown",
   "metadata": {},
   "source": [
    "Feeling vs Thinking"
   ]
  },
  {
   "cell_type": "code",
   "execution_count": null,
   "metadata": {},
   "outputs": [
    {
     "name": "stdout",
     "output_type": "stream",
     "text": [
      "              precision    recall  f1-score   support\n",
      "\n",
      "     Feeling       0.61      0.41      0.49    229312\n",
      "    Thinking       0.50      0.69      0.58    193533\n",
      "\n",
      "    accuracy                           0.54    422845\n",
      "   macro avg       0.56      0.55      0.54    422845\n",
      "weighted avg       0.56      0.54      0.53    422845\n",
      "\n"
     ]
    }
   ],
   "source": [
    "y = targets[\"t_vs_f\"].values\n",
    "\n",
    "xgboost_classifier_t_vs_f = build_classifier_with_smote_enn()\n",
    "xgboost_classifier_t_vs_f.fit(X, y)\n",
    "y_pred = xgboost_classifier_t_vs_f.predict(X)\n",
    "print(classification_report(y, y_pred, target_names=[\"Feeling\", \"Thinking\"]))"
   ]
  },
  {
   "attachments": {},
   "cell_type": "markdown",
   "metadata": {},
   "source": [
    "Judging vs Percieving"
   ]
  },
  {
   "cell_type": "code",
   "execution_count": null,
   "metadata": {},
   "outputs": [
    {
     "name": "stdout",
     "output_type": "stream",
     "text": [
      "              precision    recall  f1-score   support\n",
      "\n",
      "     Judging       0.41      0.75      0.53    167110\n",
      "  Percieving       0.65      0.30      0.41    255735\n",
      "\n",
      "    accuracy                           0.48    422845\n",
      "   macro avg       0.53      0.52      0.47    422845\n",
      "weighted avg       0.55      0.48      0.46    422845\n",
      "\n"
     ]
    }
   ],
   "source": [
    "y = targets[\"j_vs_p\"].values\n",
    "\n",
    "xgboost_classifier_j_vs_p = build_classifier_with_smote_enn()\n",
    "xgboost_classifier_j_vs_p.fit(X, y)\n",
    "y_pred = xgboost_classifier_j_vs_p.predict(X)\n",
    "print(classification_report(y, y_pred, target_names=[\"Judging\", \"Percieving\"]))"
   ]
  },
  {
   "attachments": {},
   "cell_type": "markdown",
   "metadata": {},
   "source": [
    "We can see from the above results that while there is improvement in the F1 score of the minority classes, the majority classes F1 and the macro averaged F1 score were found to have gotten worse. Next, we shall try another method of SMOTE oversampling combined with a different undersampling technique."
   ]
  },
  {
   "attachments": {},
   "cell_type": "markdown",
   "metadata": {},
   "source": [
    "##### SMOTE + Tomek Links"
   ]
  },
  {
   "cell_type": "code",
   "execution_count": null,
   "metadata": {},
   "outputs": [],
   "source": [
    "from imblearn.over_sampling import SMOTE\n",
    "from imblearn.combine import SMOTETomek\n",
    "from imblearn.pipeline import Pipeline\n",
    "from xgboost import XGBClassifier\n",
    "from sklearn.metrics import f1_score\n",
    "\n",
    "def build_classifier_with_smote_tomek(model=XGBClassifier(eval_metric=f1_score, random_state=42), sampling_strategy=\"auto\"):\n",
    "    \"\"\" Return the given model, with intitial SMOTE over-sampling.\n",
    "\n",
    "    Args:\n",
    "    - model - The classfication model to fit onto input data.\n",
    "    - sampling_strategy - Sampling information to resample the data set. See API reference for imbalance-learn's SMOTE() for more details.\n",
    "\n",
    "    Returns:\n",
    "    - pipeline - A pipeline that oversamples fitted data using SMOTE and then proceeds to fit the input model onto the data being fed into the pipeline.\n",
    "    \"\"\"\n",
    "    resampler = SMOTETomek(sampling_strategy=sampling_strategy, random_state=42)\n",
    "    pipeline = Pipeline([\n",
    "        (\"resampler\", resampler),\n",
    "        (\"model\", model)\n",
    "    ])\n",
    "\n",
    "    return pipeline    "
   ]
  },
  {
   "attachments": {},
   "cell_type": "markdown",
   "metadata": {},
   "source": [
    "Extraversion vs Introversion"
   ]
  },
  {
   "cell_type": "code",
   "execution_count": null,
   "metadata": {},
   "outputs": [
    {
     "name": "stdout",
     "output_type": "stream",
     "text": [
      "              precision    recall  f1-score   support\n",
      "\n",
      "Extraversion       0.27      0.34      0.30     97582\n",
      "Introversion       0.78      0.72      0.75    325263\n",
      "\n",
      "    accuracy                           0.63    422845\n",
      "   macro avg       0.53      0.53      0.52    422845\n",
      "weighted avg       0.66      0.63      0.65    422845\n",
      "\n"
     ]
    }
   ],
   "source": [
    "y = targets[\"e_vs_i\"].values\n",
    "\n",
    "xgboost_classifier_e_vs_i = build_classifier_with_smote_tomek()\n",
    "xgboost_classifier_e_vs_i.fit(X, y)\n",
    "y_pred = xgboost_classifier_e_vs_i.predict(X)\n",
    "print(classification_report(y, y_pred, target_names=[\"Extraversion\", \"Introversion\"]))"
   ]
  },
  {
   "attachments": {},
   "cell_type": "markdown",
   "metadata": {},
   "source": [
    "Intuition vs Sensing"
   ]
  },
  {
   "cell_type": "code",
   "execution_count": null,
   "metadata": {},
   "outputs": [
    {
     "name": "stdout",
     "output_type": "stream",
     "text": [
      "              precision    recall  f1-score   support\n",
      "\n",
      "   Intuition       0.87      0.70      0.78    364822\n",
      "     Sensing       0.16      0.35      0.22     58023\n",
      "\n",
      "    accuracy                           0.65    422845\n",
      "   macro avg       0.51      0.52      0.50    422845\n",
      "weighted avg       0.77      0.65      0.70    422845\n",
      "\n"
     ]
    }
   ],
   "source": [
    "y = targets[\"s_vs_n\"].values\n",
    "\n",
    "xgboost_classifier_s_vs_n = build_classifier_with_smote_tomek()\n",
    "xgboost_classifier_s_vs_n.fit(X, y)\n",
    "y_pred = xgboost_classifier_s_vs_n.predict(X)\n",
    "print(classification_report(y, y_pred, target_names=[\"Intuition\", \"Sensing\"]))"
   ]
  },
  {
   "attachments": {},
   "cell_type": "markdown",
   "metadata": {},
   "source": [
    "Feeling vs Thinking"
   ]
  },
  {
   "cell_type": "code",
   "execution_count": null,
   "metadata": {},
   "outputs": [
    {
     "name": "stdout",
     "output_type": "stream",
     "text": [
      "              precision    recall  f1-score   support\n",
      "\n",
      "     Feeling       0.61      0.56      0.58    229312\n",
      "    Thinking       0.52      0.58      0.55    193533\n",
      "\n",
      "    accuracy                           0.57    422845\n",
      "   macro avg       0.57      0.57      0.57    422845\n",
      "weighted avg       0.57      0.57      0.57    422845\n",
      "\n"
     ]
    }
   ],
   "source": [
    "y = targets[\"t_vs_f\"].values\n",
    "\n",
    "xgboost_classifier_t_vs_f = build_classifier_with_smote_tomek()\n",
    "xgboost_classifier_t_vs_f.fit(X, y)\n",
    "y_pred = xgboost_classifier_t_vs_f.predict(X)\n",
    "print(classification_report(y, y_pred, target_names=[\"Feeling\", \"Thinking\"]))"
   ]
  },
  {
   "attachments": {},
   "cell_type": "markdown",
   "metadata": {},
   "source": [
    "Judging vs Percieving"
   ]
  },
  {
   "cell_type": "code",
   "execution_count": null,
   "metadata": {},
   "outputs": [
    {
     "name": "stdout",
     "output_type": "stream",
     "text": [
      "              precision    recall  f1-score   support\n",
      "\n",
      "     Judging       0.44      0.40      0.42    167110\n",
      "  Percieving       0.63      0.67      0.65    255735\n",
      "\n",
      "    accuracy                           0.56    422845\n",
      "   macro avg       0.53      0.53      0.53    422845\n",
      "weighted avg       0.55      0.56      0.56    422845\n",
      "\n"
     ]
    }
   ],
   "source": [
    "y = targets[\"j_vs_p\"].values\n",
    "\n",
    "xgboost_classifier_j_vs_p = build_classifier_with_smote_tomek()\n",
    "xgboost_classifier_j_vs_p.fit(X, y)\n",
    "y_pred = xgboost_classifier_j_vs_p.predict(X)\n",
    "print(classification_report(y, y_pred, target_names=[\"Judging\", \"Percieving\"]))"
   ]
  },
  {
   "attachments": {},
   "cell_type": "markdown",
   "metadata": {},
   "source": [
    "The results obtained via using the default settings of Tomek Links along side SMOTE does not seem to improve model performance in terms of F1 scores of the classes and macro averaged F1 scores any more than just using SMOTE."
   ]
  },
  {
   "attachments": {},
   "cell_type": "markdown",
   "metadata": {},
   "source": [
    "##### XGBoost + SMOTE Oversampling - Hyperparameter Tuning\n",
    "In this section we will tune for the optimal hyperparameters for the classifiers using oversampled data via SMOTE. The tuning method will be a bayesian optimisation approach with 5-fold stratified cross validation."
   ]
  },
  {
   "cell_type": "code",
   "execution_count": 10,
   "metadata": {},
   "outputs": [],
   "source": [
    "from imblearn.over_sampling import SMOTE\n",
    "from xgboost import XGBClassifier\n",
    "from sklearn.model_selection import StratifiedKFold\n",
    "from sklearn.metrics import classification_report\n",
    "from skopt import BayesSearchCV\n",
    "from skopt.space import Real, Integer\n",
    "\n",
    "param_space = {\n",
    "    'max_depth': Integer(3, 18),\n",
    "    'learning_rate': Real(0.01, 1.0, prior=\"log-uniform\"),\n",
    "    'colsample_bytree': Real(0.5, 1.0),\n",
    "    'colsample_bylevel': Real(0.5, 1.0),\n",
    "    'n_estimators': Integer(100, 700)\n",
    "}\n",
    "\n",
    "def xgbclassifier_binary_cv(X, y, estimator=XGBClassifier(random_state=42), param_space=param_space, random_state=42, n_iter=10, cv=StratifiedKFold(shuffle=True), scoring=\"f1_macro\"):\n",
    "    \"\"\"XGBoost Classifier Model and using bayesian optimisation for hyperparameter tuning.\n",
    "\n",
    "    Args:\n",
    "    - X - The feature data.\n",
    "    - y - The target variable.\n",
    "    - param_space - The parameter space in which to randomly experiment with different hyperparameters when performing stratified k-fold cross validation for training the classifier.\n",
    "    - random_state - Random seed for consistent results when comparing.\n",
    "    - n_iter - Number of iterations for BayesSearchCV.\n",
    "    - cv - Type of k fold cross validation to use.\n",
    "    - scoring - The evaluation metric to use for scoring.\n",
    "\n",
    "    Returns:\n",
    "    - model - The fitted model with the tuned hyperparameters.\n",
    "    \"\"\"\n",
    "    model = BayesSearchCV(\n",
    "        estimator=estimator,\n",
    "        search_spaces=param_space,\n",
    "        cv=cv,\n",
    "        scoring=scoring,\n",
    "        random_state=random_state,\n",
    "        n_iter=n_iter,\n",
    "        return_train_score=True\n",
    "    )\n",
    "\n",
    "    model.fit(X, y)\n",
    "\n",
    "    return model"
   ]
  },
  {
   "attachments": {},
   "cell_type": "markdown",
   "metadata": {},
   "source": [
    "Extraversion vs Introversion"
   ]
  },
  {
   "cell_type": "code",
   "execution_count": 11,
   "metadata": {},
   "outputs": [],
   "source": [
    "y = targets[\"e_vs_i\"].values\n",
    "\n",
    "over_sampler = SMOTE(random_state=42)\n",
    "X_res, y_res = over_sampler.fit_resample(X, y)"
   ]
  },
  {
   "cell_type": "code",
   "execution_count": 18,
   "metadata": {},
   "outputs": [
    {
     "name": "stdout",
     "output_type": "stream",
     "text": [
      "              precision    recall  f1-score   support\n",
      "\n",
      "Extraversion       0.70      0.68      0.69     97582\n",
      "Introversion       0.91      0.91      0.91    325263\n",
      "\n",
      "    accuracy                           0.86    422845\n",
      "   macro avg       0.80      0.80      0.80    422845\n",
      "weighted avg       0.86      0.86      0.86    422845\n",
      "\n"
     ]
    }
   ],
   "source": [
    "xgboost_classifier_e_vs_i = xgbclassifier_binary_cv(X_res, y_res)\n",
    "y_pred = xgboost_classifier_e_vs_i.predict(X)\n",
    "print(classification_report(y, y_pred, target_names=[\"Extraversion\", \"Introversion\"]))"
   ]
  },
  {
   "cell_type": "code",
   "execution_count": 29,
   "metadata": {},
   "outputs": [
    {
     "name": "stdout",
     "output_type": "stream",
     "text": [
      "Best params: OrderedDict([('colsample_bylevel', 0.9186941777766422), ('colsample_bytree', 0.9416576386904312), ('learning_rate', 0.04044084484117812), ('max_depth', 17), ('n_estimators', 618)])\n",
      "Test score: 0.7578001257713494\n"
     ]
    }
   ],
   "source": [
    "best_params = xgboost_classifier_e_vs_i.best_params_\n",
    "test_score = xgboost_classifier_e_vs_i.best_score_\n",
    "print(f\"Best params: {best_params}\")\n",
    "print(f\"Test score: {test_score}\")"
   ]
  },
  {
   "cell_type": "code",
   "execution_count": 30,
   "metadata": {},
   "outputs": [
    {
     "data": {
      "text/html": [
       "<div>\n",
       "<style scoped>\n",
       "    .dataframe tbody tr th:only-of-type {\n",
       "        vertical-align: middle;\n",
       "    }\n",
       "\n",
       "    .dataframe tbody tr th {\n",
       "        vertical-align: top;\n",
       "    }\n",
       "\n",
       "    .dataframe thead th {\n",
       "        text-align: right;\n",
       "    }\n",
       "</style>\n",
       "<table border=\"1\" class=\"dataframe\">\n",
       "  <thead>\n",
       "    <tr style=\"text-align: right;\">\n",
       "      <th></th>\n",
       "      <th>mean_test_score</th>\n",
       "      <th>std_test_score</th>\n",
       "      <th>mean_train_score</th>\n",
       "      <th>std_train_score</th>\n",
       "    </tr>\n",
       "  </thead>\n",
       "  <tbody>\n",
       "    <tr>\n",
       "      <th>0</th>\n",
       "      <td>0.723350</td>\n",
       "      <td>0.000668</td>\n",
       "      <td>0.815098</td>\n",
       "      <td>0.000600</td>\n",
       "    </tr>\n",
       "    <tr>\n",
       "      <th>1</th>\n",
       "      <td>0.757800</td>\n",
       "      <td>0.001745</td>\n",
       "      <td>0.896635</td>\n",
       "      <td>0.000688</td>\n",
       "    </tr>\n",
       "    <tr>\n",
       "      <th>2</th>\n",
       "      <td>0.629062</td>\n",
       "      <td>0.000483</td>\n",
       "      <td>0.640946</td>\n",
       "      <td>0.000677</td>\n",
       "    </tr>\n",
       "    <tr>\n",
       "      <th>3</th>\n",
       "      <td>0.750696</td>\n",
       "      <td>0.001187</td>\n",
       "      <td>0.884116</td>\n",
       "      <td>0.000916</td>\n",
       "    </tr>\n",
       "    <tr>\n",
       "      <th>4</th>\n",
       "      <td>0.752795</td>\n",
       "      <td>0.001333</td>\n",
       "      <td>0.874417</td>\n",
       "      <td>0.000282</td>\n",
       "    </tr>\n",
       "    <tr>\n",
       "      <th>5</th>\n",
       "      <td>0.631425</td>\n",
       "      <td>0.000925</td>\n",
       "      <td>0.640396</td>\n",
       "      <td>0.000747</td>\n",
       "    </tr>\n",
       "    <tr>\n",
       "      <th>6</th>\n",
       "      <td>0.753315</td>\n",
       "      <td>0.001255</td>\n",
       "      <td>0.880091</td>\n",
       "      <td>0.000451</td>\n",
       "    </tr>\n",
       "    <tr>\n",
       "      <th>7</th>\n",
       "      <td>0.747528</td>\n",
       "      <td>0.001229</td>\n",
       "      <td>0.882107</td>\n",
       "      <td>0.000870</td>\n",
       "    </tr>\n",
       "    <tr>\n",
       "      <th>8</th>\n",
       "      <td>0.729722</td>\n",
       "      <td>0.001597</td>\n",
       "      <td>0.808439</td>\n",
       "      <td>0.000648</td>\n",
       "    </tr>\n",
       "    <tr>\n",
       "      <th>9</th>\n",
       "      <td>0.712722</td>\n",
       "      <td>0.000864</td>\n",
       "      <td>0.747794</td>\n",
       "      <td>0.000927</td>\n",
       "    </tr>\n",
       "  </tbody>\n",
       "</table>\n",
       "</div>"
      ],
      "text/plain": [
       "   mean_test_score  std_test_score  mean_train_score  std_train_score\n",
       "0         0.723350        0.000668          0.815098         0.000600\n",
       "1         0.757800        0.001745          0.896635         0.000688\n",
       "2         0.629062        0.000483          0.640946         0.000677\n",
       "3         0.750696        0.001187          0.884116         0.000916\n",
       "4         0.752795        0.001333          0.874417         0.000282\n",
       "5         0.631425        0.000925          0.640396         0.000747\n",
       "6         0.753315        0.001255          0.880091         0.000451\n",
       "7         0.747528        0.001229          0.882107         0.000870\n",
       "8         0.729722        0.001597          0.808439         0.000648\n",
       "9         0.712722        0.000864          0.747794         0.000927"
      ]
     },
     "execution_count": 30,
     "metadata": {},
     "output_type": "execute_result"
    }
   ],
   "source": [
    "# Note that these results are based on the oversampled dataset.\n",
    "results = pd.concat([\n",
    "    pd.DataFrame(xgboost_classifier_e_vs_i.cv_results_[\"mean_test_score\"], columns=[\"mean_test_score\"]),\n",
    "    pd.DataFrame(xgboost_classifier_e_vs_i.cv_results_[\"std_test_score\"], columns=[\"std_test_score\"]),\n",
    "    pd.DataFrame(xgboost_classifier_e_vs_i.cv_results_[\"mean_train_score\"], columns=[\"mean_train_score\"]),\n",
    "    pd.DataFrame(xgboost_classifier_e_vs_i.cv_results_[\"std_train_score\"], columns=[\"std_train_score\"])\n",
    "], axis=1)\n",
    "results"
   ]
  },
  {
   "attachments": {},
   "cell_type": "markdown",
   "metadata": {},
   "source": [
    "Based on the classification report on the original data, the recall and the F1-score of the minority class (Extraversion) has siginificantly improve. Ths precision and recall of the majority class (Introversion) has also seen some significant improvements. Overall, these improvements have led to an increase in the macro averaged F1-score. \n",
    "\n",
    "However, based on the cross validation results on the ovesamples data, there might be signs of overfitting for the best model (index 1). To deal with this, regularization hyperparameters can also be tuned, but for now we shall leave it as the goal here is to a \"good enough\" model to gain initial insights into what features could be important to relating online user posts/comments with MBTI personality types. Further model development would be conducted in a different notebook."
   ]
  },
  {
   "cell_type": "code",
   "execution_count": 51,
   "metadata": {},
   "outputs": [],
   "source": [
    "# Save optimal classifier locally\n",
    "xgboost_classifier_e_vs_i.best_estimator_.save_model(\"models/e_vs_i_opt.json\")"
   ]
  },
  {
   "attachments": {},
   "cell_type": "markdown",
   "metadata": {},
   "source": [
    "Intuition vs Sensing"
   ]
  },
  {
   "cell_type": "code",
   "execution_count": 39,
   "metadata": {},
   "outputs": [],
   "source": [
    "y = targets[\"s_vs_n\"].values\n",
    "\n",
    "over_sampler = SMOTE(random_state=42)\n",
    "X_res, y_res = over_sampler.fit_resample(X, y)"
   ]
  },
  {
   "cell_type": "code",
   "execution_count": null,
   "metadata": {},
   "outputs": [],
   "source": [
    "xgboost_classifier_s_vs_n = xgbclassifier_binary_cv(X_res, y_res)"
   ]
  },
  {
   "cell_type": "code",
   "execution_count": 46,
   "metadata": {},
   "outputs": [
    {
     "name": "stdout",
     "output_type": "stream",
     "text": [
      "              precision    recall  f1-score   support\n",
      "\n",
      "   Intuition       0.94      0.88      0.91    364822\n",
      "     Sensing       0.47      0.66      0.55     58023\n",
      "\n",
      "    accuracy                           0.85    422845\n",
      "   macro avg       0.71      0.77      0.73    422845\n",
      "weighted avg       0.88      0.85      0.86    422845\n",
      "\n"
     ]
    }
   ],
   "source": [
    "y_pred = xgboost_classifier_s_vs_n.predict(X)\n",
    "print(classification_report(y, y_pred, target_names=[\"Intuition\", \"Sensing\"]))"
   ]
  },
  {
   "cell_type": "code",
   "execution_count": 47,
   "metadata": {},
   "outputs": [
    {
     "name": "stdout",
     "output_type": "stream",
     "text": [
      "Best params: OrderedDict([('colsample_bylevel', 0.9186941777766422), ('colsample_bytree', 0.9416576386904312), ('learning_rate', 0.04044084484117812), ('max_depth', 17), ('n_estimators', 618)])\n",
      "Test score: 0.8245835428069688\n"
     ]
    }
   ],
   "source": [
    "best_params = xgboost_classifier_s_vs_n.best_params_\n",
    "test_score = xgboost_classifier_s_vs_n.best_score_\n",
    "print(f\"Best params: {best_params}\")\n",
    "print(f\"Test score: {test_score}\")"
   ]
  },
  {
   "cell_type": "code",
   "execution_count": 48,
   "metadata": {},
   "outputs": [
    {
     "data": {
      "text/html": [
       "<div>\n",
       "<style scoped>\n",
       "    .dataframe tbody tr th:only-of-type {\n",
       "        vertical-align: middle;\n",
       "    }\n",
       "\n",
       "    .dataframe tbody tr th {\n",
       "        vertical-align: top;\n",
       "    }\n",
       "\n",
       "    .dataframe thead th {\n",
       "        text-align: right;\n",
       "    }\n",
       "</style>\n",
       "<table border=\"1\" class=\"dataframe\">\n",
       "  <thead>\n",
       "    <tr style=\"text-align: right;\">\n",
       "      <th></th>\n",
       "      <th>mean_test_score</th>\n",
       "      <th>std_test_score</th>\n",
       "      <th>mean_train_score</th>\n",
       "      <th>std_train_score</th>\n",
       "    </tr>\n",
       "  </thead>\n",
       "  <tbody>\n",
       "    <tr>\n",
       "      <th>0</th>\n",
       "      <td>0.786403</td>\n",
       "      <td>0.000599</td>\n",
       "      <td>0.849712</td>\n",
       "      <td>0.000482</td>\n",
       "    </tr>\n",
       "    <tr>\n",
       "      <th>1</th>\n",
       "      <td>0.824584</td>\n",
       "      <td>0.000455</td>\n",
       "      <td>0.907778</td>\n",
       "      <td>0.000742</td>\n",
       "    </tr>\n",
       "    <tr>\n",
       "      <th>2</th>\n",
       "      <td>0.654872</td>\n",
       "      <td>0.000534</td>\n",
       "      <td>0.663971</td>\n",
       "      <td>0.000803</td>\n",
       "    </tr>\n",
       "    <tr>\n",
       "      <th>3</th>\n",
       "      <td>0.818766</td>\n",
       "      <td>0.000623</td>\n",
       "      <td>0.903330</td>\n",
       "      <td>0.000466</td>\n",
       "    </tr>\n",
       "    <tr>\n",
       "      <th>4</th>\n",
       "      <td>0.819506</td>\n",
       "      <td>0.000546</td>\n",
       "      <td>0.895534</td>\n",
       "      <td>0.000635</td>\n",
       "    </tr>\n",
       "    <tr>\n",
       "      <th>5</th>\n",
       "      <td>0.654426</td>\n",
       "      <td>0.001071</td>\n",
       "      <td>0.660039</td>\n",
       "      <td>0.000737</td>\n",
       "    </tr>\n",
       "    <tr>\n",
       "      <th>6</th>\n",
       "      <td>0.818414</td>\n",
       "      <td>0.000841</td>\n",
       "      <td>0.895325</td>\n",
       "      <td>0.000250</td>\n",
       "    </tr>\n",
       "    <tr>\n",
       "      <th>7</th>\n",
       "      <td>0.813402</td>\n",
       "      <td>0.001279</td>\n",
       "      <td>0.894831</td>\n",
       "      <td>0.000579</td>\n",
       "    </tr>\n",
       "    <tr>\n",
       "      <th>8</th>\n",
       "      <td>0.791094</td>\n",
       "      <td>0.000767</td>\n",
       "      <td>0.843384</td>\n",
       "      <td>0.001025</td>\n",
       "    </tr>\n",
       "    <tr>\n",
       "      <th>9</th>\n",
       "      <td>0.762942</td>\n",
       "      <td>0.000697</td>\n",
       "      <td>0.787400</td>\n",
       "      <td>0.000540</td>\n",
       "    </tr>\n",
       "  </tbody>\n",
       "</table>\n",
       "</div>"
      ],
      "text/plain": [
       "   mean_test_score  std_test_score  mean_train_score  std_train_score\n",
       "0         0.786403        0.000599          0.849712         0.000482\n",
       "1         0.824584        0.000455          0.907778         0.000742\n",
       "2         0.654872        0.000534          0.663971         0.000803\n",
       "3         0.818766        0.000623          0.903330         0.000466\n",
       "4         0.819506        0.000546          0.895534         0.000635\n",
       "5         0.654426        0.001071          0.660039         0.000737\n",
       "6         0.818414        0.000841          0.895325         0.000250\n",
       "7         0.813402        0.001279          0.894831         0.000579\n",
       "8         0.791094        0.000767          0.843384         0.001025\n",
       "9         0.762942        0.000697          0.787400         0.000540"
      ]
     },
     "execution_count": 48,
     "metadata": {},
     "output_type": "execute_result"
    }
   ],
   "source": [
    "# Note that these results are based on the oversampled dataset.\n",
    "results = pd.concat([\n",
    "    pd.DataFrame(xgboost_classifier_s_vs_n.cv_results_[\"mean_test_score\"], columns=[\"mean_test_score\"]),\n",
    "    pd.DataFrame(xgboost_classifier_s_vs_n.cv_results_[\"std_test_score\"], columns=[\"std_test_score\"]),\n",
    "    pd.DataFrame(xgboost_classifier_s_vs_n.cv_results_[\"mean_train_score\"], columns=[\"mean_train_score\"]),\n",
    "    pd.DataFrame(xgboost_classifier_s_vs_n.cv_results_[\"std_train_score\"], columns=[\"std_train_score\"])\n",
    "], axis=1)\n",
    "results"
   ]
  },
  {
   "attachments": {},
   "cell_type": "markdown",
   "metadata": {},
   "source": [
    "Here, we also see that the precision, recall and F1-score of the both minority and majority classes have significantly increased. There is more confidence here with using the optimised classifier for intuiition vs sensing to gain insights on which features are important in determining this particular axis of personality factors."
   ]
  },
  {
   "cell_type": "code",
   "execution_count": 52,
   "metadata": {},
   "outputs": [],
   "source": [
    "# Save optimal classifier locally\n",
    "xgboost_classifier_s_vs_n.best_estimator_.save_model(\"models/s_vs_n_opt.json\")"
   ]
  },
  {
   "attachments": {},
   "cell_type": "markdown",
   "metadata": {},
   "source": [
    "Feeling vs Thinking"
   ]
  },
  {
   "cell_type": "code",
   "execution_count": 11,
   "metadata": {},
   "outputs": [],
   "source": [
    "y = targets[\"t_vs_f\"].values\n",
    "\n",
    "over_sampler = SMOTE(random_state=42)\n",
    "X_res, y_res = over_sampler.fit_resample(X, y)"
   ]
  },
  {
   "cell_type": "code",
   "execution_count": 13,
   "metadata": {},
   "outputs": [],
   "source": [
    "xgboost_classifier_t_vs_f = xgbclassifier_binary_cv(X_res, y_res)"
   ]
  },
  {
   "cell_type": "code",
   "execution_count": 14,
   "metadata": {},
   "outputs": [
    {
     "name": "stdout",
     "output_type": "stream",
     "text": [
      "              precision    recall  f1-score   support\n",
      "\n",
      "     Feeling       0.83      0.77      0.80    229312\n",
      "    Thinking       0.75      0.82      0.78    193533\n",
      "\n",
      "    accuracy                           0.79    422845\n",
      "   macro avg       0.79      0.79      0.79    422845\n",
      "weighted avg       0.80      0.79      0.79    422845\n",
      "\n"
     ]
    }
   ],
   "source": [
    "y_pred = xgboost_classifier_t_vs_f.predict(X)\n",
    "print(classification_report(y, y_pred, target_names=[\"Feeling\", \"Thinking\"]))"
   ]
  },
  {
   "cell_type": "code",
   "execution_count": 15,
   "metadata": {},
   "outputs": [
    {
     "name": "stdout",
     "output_type": "stream",
     "text": [
      "Best params: OrderedDict([('colsample_bylevel', 0.8085396792511581), ('colsample_bytree', 0.8876821894139413), ('learning_rate', 0.05224513597711275), ('max_depth', 16), ('n_estimators', 456)])\n",
      "Test score: 0.5598291736247274\n"
     ]
    }
   ],
   "source": [
    "best_params = xgboost_classifier_t_vs_f.best_params_\n",
    "test_score = xgboost_classifier_t_vs_f.best_score_\n",
    "print(f\"Best params: {best_params}\")\n",
    "print(f\"Test score: {test_score}\")"
   ]
  },
  {
   "cell_type": "code",
   "execution_count": 16,
   "metadata": {},
   "outputs": [
    {
     "data": {
      "text/html": [
       "<div>\n",
       "<style scoped>\n",
       "    .dataframe tbody tr th:only-of-type {\n",
       "        vertical-align: middle;\n",
       "    }\n",
       "\n",
       "    .dataframe tbody tr th {\n",
       "        vertical-align: top;\n",
       "    }\n",
       "\n",
       "    .dataframe thead th {\n",
       "        text-align: right;\n",
       "    }\n",
       "</style>\n",
       "<table border=\"1\" class=\"dataframe\">\n",
       "  <thead>\n",
       "    <tr style=\"text-align: right;\">\n",
       "      <th></th>\n",
       "      <th>mean_test_score</th>\n",
       "      <th>std_test_score</th>\n",
       "      <th>mean_train_score</th>\n",
       "      <th>std_train_score</th>\n",
       "    </tr>\n",
       "  </thead>\n",
       "  <tbody>\n",
       "    <tr>\n",
       "      <th>0</th>\n",
       "      <td>0.544089</td>\n",
       "      <td>0.001675</td>\n",
       "      <td>0.732758</td>\n",
       "      <td>0.001688</td>\n",
       "    </tr>\n",
       "    <tr>\n",
       "      <th>1</th>\n",
       "      <td>0.559243</td>\n",
       "      <td>0.001362</td>\n",
       "      <td>0.845987</td>\n",
       "      <td>0.002741</td>\n",
       "    </tr>\n",
       "    <tr>\n",
       "      <th>2</th>\n",
       "      <td>0.556476</td>\n",
       "      <td>0.002263</td>\n",
       "      <td>0.582138</td>\n",
       "      <td>0.000432</td>\n",
       "    </tr>\n",
       "    <tr>\n",
       "      <th>3</th>\n",
       "      <td>0.554676</td>\n",
       "      <td>0.000924</td>\n",
       "      <td>0.812822</td>\n",
       "      <td>0.004339</td>\n",
       "    </tr>\n",
       "    <tr>\n",
       "      <th>4</th>\n",
       "      <td>0.555983</td>\n",
       "      <td>0.000813</td>\n",
       "      <td>0.809626</td>\n",
       "      <td>0.003977</td>\n",
       "    </tr>\n",
       "    <tr>\n",
       "      <th>5</th>\n",
       "      <td>0.555857</td>\n",
       "      <td>0.001186</td>\n",
       "      <td>0.567765</td>\n",
       "      <td>0.000291</td>\n",
       "    </tr>\n",
       "    <tr>\n",
       "      <th>6</th>\n",
       "      <td>0.559829</td>\n",
       "      <td>0.000730</td>\n",
       "      <td>0.811292</td>\n",
       "      <td>0.002213</td>\n",
       "    </tr>\n",
       "    <tr>\n",
       "      <th>7</th>\n",
       "      <td>0.555184</td>\n",
       "      <td>0.001079</td>\n",
       "      <td>0.823052</td>\n",
       "      <td>0.003261</td>\n",
       "    </tr>\n",
       "    <tr>\n",
       "      <th>8</th>\n",
       "      <td>0.545621</td>\n",
       "      <td>0.000944</td>\n",
       "      <td>0.721846</td>\n",
       "      <td>0.001937</td>\n",
       "    </tr>\n",
       "    <tr>\n",
       "      <th>9</th>\n",
       "      <td>0.554601</td>\n",
       "      <td>0.001243</td>\n",
       "      <td>0.634491</td>\n",
       "      <td>0.000544</td>\n",
       "    </tr>\n",
       "  </tbody>\n",
       "</table>\n",
       "</div>"
      ],
      "text/plain": [
       "   mean_test_score  std_test_score  mean_train_score  std_train_score\n",
       "0         0.544089        0.001675          0.732758         0.001688\n",
       "1         0.559243        0.001362          0.845987         0.002741\n",
       "2         0.556476        0.002263          0.582138         0.000432\n",
       "3         0.554676        0.000924          0.812822         0.004339\n",
       "4         0.555983        0.000813          0.809626         0.003977\n",
       "5         0.555857        0.001186          0.567765         0.000291\n",
       "6         0.559829        0.000730          0.811292         0.002213\n",
       "7         0.555184        0.001079          0.823052         0.003261\n",
       "8         0.545621        0.000944          0.721846         0.001937\n",
       "9         0.554601        0.001243          0.634491         0.000544"
      ]
     },
     "execution_count": 16,
     "metadata": {},
     "output_type": "execute_result"
    }
   ],
   "source": [
    "# Note that these results are based on the oversampled dataset.\n",
    "results = pd.concat([\n",
    "    pd.DataFrame(xgboost_classifier_t_vs_f.cv_results_[\"mean_test_score\"], columns=[\"mean_test_score\"]),\n",
    "    pd.DataFrame(xgboost_classifier_t_vs_f.cv_results_[\"std_test_score\"], columns=[\"std_test_score\"]),\n",
    "    pd.DataFrame(xgboost_classifier_t_vs_f.cv_results_[\"mean_train_score\"], columns=[\"mean_train_score\"]),\n",
    "    pd.DataFrame(xgboost_classifier_t_vs_f.cv_results_[\"std_train_score\"], columns=[\"std_train_score\"])\n",
    "], axis=1)\n",
    "results"
   ]
  },
  {
   "attachments": {},
   "cell_type": "markdown",
   "metadata": {},
   "source": [
    "Based on the classification report on the actual original training data (i.e. pre-oversampling), we can see significant improvements to the precision, recall and F1-score of both the minority and majority classes. \n",
    "\n",
    "However, the cross validation results suggest that this model does not do a great job at generalising to data outside the training set, as observed by the significantly lower test macro averaged F1-scores relative to the training scores. This could be potentially treated by tuning for the optimal regularisation hyperparameters, thereby getting an even more optimal model, but for now we shall leave the model as is for the purposes of gaining some insight to feature importance prior to further model development."
   ]
  },
  {
   "cell_type": "code",
   "execution_count": 17,
   "metadata": {},
   "outputs": [],
   "source": [
    "# Save optimal classifier locally\n",
    "xgboost_classifier_t_vs_f.best_estimator_.save_model(\"models/t_vs_f_opt.json\")"
   ]
  },
  {
   "attachments": {},
   "cell_type": "markdown",
   "metadata": {},
   "source": [
    "Judging vs Perceiving"
   ]
  },
  {
   "cell_type": "code",
   "execution_count": 18,
   "metadata": {},
   "outputs": [],
   "source": [
    "y = targets[\"j_vs_p\"].values\n",
    "\n",
    "over_sampler = SMOTE(random_state=42)\n",
    "X_res, y_res = over_sampler.fit_resample(X, y)"
   ]
  },
  {
   "cell_type": "code",
   "execution_count": 19,
   "metadata": {},
   "outputs": [],
   "source": [
    "xgboost_classifier_j_vs_p = xgbclassifier_binary_cv(X_res, y_res)"
   ]
  },
  {
   "cell_type": "code",
   "execution_count": 20,
   "metadata": {},
   "outputs": [
    {
     "name": "stdout",
     "output_type": "stream",
     "text": [
      "              precision    recall  f1-score   support\n",
      "\n",
      "     Judging       0.84      0.78      0.81    167110\n",
      "  Percieving       0.86      0.90      0.88    255735\n",
      "\n",
      "    accuracy                           0.85    422845\n",
      "   macro avg       0.85      0.84      0.84    422845\n",
      "weighted avg       0.85      0.85      0.85    422845\n",
      "\n"
     ]
    }
   ],
   "source": [
    "y_pred = xgboost_classifier_j_vs_p.predict(X)\n",
    "print(classification_report(y, y_pred, target_names=[\"Judging\", \"Percieving\"]))"
   ]
  },
  {
   "cell_type": "code",
   "execution_count": 21,
   "metadata": {},
   "outputs": [
    {
     "name": "stdout",
     "output_type": "stream",
     "text": [
      "Best params: OrderedDict([('colsample_bylevel', 0.9186941777766422), ('colsample_bytree', 0.9416576386904312), ('learning_rate', 0.04044084484117812), ('max_depth', 17), ('n_estimators', 618)])\n",
      "Test score: 0.5999559798519151\n"
     ]
    }
   ],
   "source": [
    "best_params = xgboost_classifier_j_vs_p.best_params_\n",
    "test_score = xgboost_classifier_j_vs_p.best_score_\n",
    "print(f\"Best params: {best_params}\")\n",
    "print(f\"Test score: {test_score}\")"
   ]
  },
  {
   "cell_type": "code",
   "execution_count": 22,
   "metadata": {},
   "outputs": [
    {
     "data": {
      "text/html": [
       "<div>\n",
       "<style scoped>\n",
       "    .dataframe tbody tr th:only-of-type {\n",
       "        vertical-align: middle;\n",
       "    }\n",
       "\n",
       "    .dataframe tbody tr th {\n",
       "        vertical-align: top;\n",
       "    }\n",
       "\n",
       "    .dataframe thead th {\n",
       "        text-align: right;\n",
       "    }\n",
       "</style>\n",
       "<table border=\"1\" class=\"dataframe\">\n",
       "  <thead>\n",
       "    <tr style=\"text-align: right;\">\n",
       "      <th></th>\n",
       "      <th>mean_test_score</th>\n",
       "      <th>std_test_score</th>\n",
       "      <th>mean_train_score</th>\n",
       "      <th>std_train_score</th>\n",
       "    </tr>\n",
       "  </thead>\n",
       "  <tbody>\n",
       "    <tr>\n",
       "      <th>0</th>\n",
       "      <td>0.580332</td>\n",
       "      <td>0.000984</td>\n",
       "      <td>0.745241</td>\n",
       "      <td>0.001336</td>\n",
       "    </tr>\n",
       "    <tr>\n",
       "      <th>1</th>\n",
       "      <td>0.599956</td>\n",
       "      <td>0.000392</td>\n",
       "      <td>0.878372</td>\n",
       "      <td>0.001790</td>\n",
       "    </tr>\n",
       "    <tr>\n",
       "      <th>2</th>\n",
       "      <td>0.560005</td>\n",
       "      <td>0.001015</td>\n",
       "      <td>0.587295</td>\n",
       "      <td>0.001071</td>\n",
       "    </tr>\n",
       "    <tr>\n",
       "      <th>3</th>\n",
       "      <td>0.596109</td>\n",
       "      <td>0.001206</td>\n",
       "      <td>0.850162</td>\n",
       "      <td>0.002391</td>\n",
       "    </tr>\n",
       "    <tr>\n",
       "      <th>4</th>\n",
       "      <td>0.597554</td>\n",
       "      <td>0.001585</td>\n",
       "      <td>0.839984</td>\n",
       "      <td>0.000891</td>\n",
       "    </tr>\n",
       "    <tr>\n",
       "      <th>5</th>\n",
       "      <td>0.560652</td>\n",
       "      <td>0.001292</td>\n",
       "      <td>0.577548</td>\n",
       "      <td>0.000416</td>\n",
       "    </tr>\n",
       "    <tr>\n",
       "      <th>6</th>\n",
       "      <td>0.598720</td>\n",
       "      <td>0.000849</td>\n",
       "      <td>0.854427</td>\n",
       "      <td>0.000560</td>\n",
       "    </tr>\n",
       "    <tr>\n",
       "      <th>7</th>\n",
       "      <td>0.594713</td>\n",
       "      <td>0.001741</td>\n",
       "      <td>0.855640</td>\n",
       "      <td>0.002644</td>\n",
       "    </tr>\n",
       "    <tr>\n",
       "      <th>8</th>\n",
       "      <td>0.581213</td>\n",
       "      <td>0.000524</td>\n",
       "      <td>0.736460</td>\n",
       "      <td>0.001836</td>\n",
       "    </tr>\n",
       "    <tr>\n",
       "      <th>9</th>\n",
       "      <td>0.582977</td>\n",
       "      <td>0.002441</td>\n",
       "      <td>0.658357</td>\n",
       "      <td>0.000755</td>\n",
       "    </tr>\n",
       "  </tbody>\n",
       "</table>\n",
       "</div>"
      ],
      "text/plain": [
       "   mean_test_score  std_test_score  mean_train_score  std_train_score\n",
       "0         0.580332        0.000984          0.745241         0.001336\n",
       "1         0.599956        0.000392          0.878372         0.001790\n",
       "2         0.560005        0.001015          0.587295         0.001071\n",
       "3         0.596109        0.001206          0.850162         0.002391\n",
       "4         0.597554        0.001585          0.839984         0.000891\n",
       "5         0.560652        0.001292          0.577548         0.000416\n",
       "6         0.598720        0.000849          0.854427         0.000560\n",
       "7         0.594713        0.001741          0.855640         0.002644\n",
       "8         0.581213        0.000524          0.736460         0.001836\n",
       "9         0.582977        0.002441          0.658357         0.000755"
      ]
     },
     "execution_count": 22,
     "metadata": {},
     "output_type": "execute_result"
    }
   ],
   "source": [
    "# Note that these results are based on the oversampled dataset.\n",
    "results = pd.concat([\n",
    "    pd.DataFrame(xgboost_classifier_j_vs_p.cv_results_[\"mean_test_score\"], columns=[\"mean_test_score\"]),\n",
    "    pd.DataFrame(xgboost_classifier_j_vs_p.cv_results_[\"std_test_score\"], columns=[\"std_test_score\"]),\n",
    "    pd.DataFrame(xgboost_classifier_j_vs_p.cv_results_[\"mean_train_score\"], columns=[\"mean_train_score\"]),\n",
    "    pd.DataFrame(xgboost_classifier_j_vs_p.cv_results_[\"std_train_score\"], columns=[\"std_train_score\"])\n",
    "], axis=1)\n",
    "results"
   ]
  },
  {
   "attachments": {},
   "cell_type": "markdown",
   "metadata": {},
   "source": [
    "A similar situation as the feeling vs thinking classifier after initial hyperparameter tuning."
   ]
  },
  {
   "cell_type": "code",
   "execution_count": 23,
   "metadata": {},
   "outputs": [],
   "source": [
    "# Save optimal classifier locally\n",
    "xgboost_classifier_j_vs_p.best_estimator_.save_model(\"models/j_vs_p_opt.json\")"
   ]
  },
  {
   "attachments": {},
   "cell_type": "markdown",
   "metadata": {},
   "source": [
    "##### XGBoost + SMOTE Oversampling - Feature Importance\n",
    "\n",
    "The below graphs will show the most important features for relating a user's online comments/posts to their Myers-Briggs personality types using the tuned models above."
   ]
  },
  {
   "cell_type": "code",
   "execution_count": 26,
   "metadata": {},
   "outputs": [],
   "source": [
    "# Run the code in this cell to load up the models saved locally if needed.\n",
    "xgboost_classifier_e_vs_i = XGBClassifier()\n",
    "xgboost_classifier_s_vs_n = XGBClassifier()\n",
    "xgboost_classifier_t_vs_f = XGBClassifier()\n",
    "xgboost_classifier_j_vs_p = XGBClassifier()\n",
    "\n",
    "xgboost_classifier_e_vs_i.load_model(\"models/e_vs_i_opt.json\")\n",
    "xgboost_classifier_s_vs_n.load_model(\"models/s_vs_n_opt.json\")\n",
    "xgboost_classifier_t_vs_f.load_model(\"models/t_vs_f_opt.json\")\n",
    "xgboost_classifier_j_vs_p.load_model(\"models/j_vs_p_opt.json\")"
   ]
  },
  {
   "cell_type": "code",
   "execution_count": 33,
   "metadata": {},
   "outputs": [
    {
     "data": {
      "image/png": "[encoded data removed]",
      "text/plain": [
       "<Figure size 2500x1500 with 4 Axes>"
      ]
     },
     "metadata": {},
     "output_type": "display_data"
    }
   ],
   "source": [
    "from xgboost import plot_importance\n",
    "\n",
    "sns.set()\n",
    "\n",
    "fig, axes = plt.subplots(2, 2, figsize=(25,15))\n",
    "axes = axes.flatten()\n",
    "\n",
    "plot_importance(booster=xgboost_classifier_e_vs_i, ax=axes[0], max_num_features=10, title=\"Extraversion vs Introversion\")\n",
    "plot_importance(booster=xgboost_classifier_s_vs_n, ax=axes[1], max_num_features=10, title=\"Intuition vs Sensing\")\n",
    "plot_importance(booster=xgboost_classifier_t_vs_f, ax=axes[2], max_num_features=10, title=\"Feeling vs Thinking\")\n",
    "plot_importance(booster=xgboost_classifier_j_vs_p, ax=axes[3], max_num_features=10, title=\"Judging vs Percieving\")\n",
    "\n",
    "fig.suptitle(\"Feature Importance over the 4 axes of Personality Factors\")\n",
    "\n",
    "plt.show()"
   ]
  },
  {
   "attachments": {},
   "cell_type": "markdown",
   "metadata": {},
   "source": [
    "Based on the fitting of the XGBoost models tuned thus far, from the above plots of feature importances across the 4 axes of personality factors we can observe that the most important feature out of the engineered features is the overall sentiment of a user's post/comment. According to these models, whether a online comment/post's sentiment is postive, negative or neutral tends to contribute the most in determining the user's Myers-Briggs personality factors by a significant margin.\n",
    "\n",
    "The number of words in a user's online post/comment has also been observed to be a more important contribution than some of the other features when infering the user's personlaity factors from what they post online, as well as the number of nouns and verbs in the post."
   ]
  }
 ],
 "metadata": {
  "kernelspec": {
   "display_name": "venv_myers_briggs_personalities",
   "language": "python",
   "name": "python3"
  },
  "language_info": {
   "codemirror_mode": {
    "name": "ipython",
    "version": 3
   },
   "file_extension": ".py",
   "mimetype": "text/x-python",
   "name": "python",
   "nbconvert_exporter": "python",
   "pygments_lexer": "ipython3",
   "version": "3.10.8"
  },
  "orig_nbformat": 4,
  "vscode": {
   "interpreter": {
    "hash": "8c5e62d055c9f5019009eeac34d5848eef589b72b0bbb976c58401fa648b29a6"
   }
  }
 },
 "nbformat": 4,
 "nbformat_minor": 2
}
